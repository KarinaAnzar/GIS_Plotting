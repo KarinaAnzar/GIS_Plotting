{
 "cells": [
  {
   "cell_type": "code",
   "execution_count": 81,
   "id": "747d3e11",
   "metadata": {},
   "outputs": [],
   "source": [
    "#GIS Plotting Project Draft\n",
    "\n",
    "#---Objective---\n",
    "#---My main objective for my portion of the plotting project is to create statistical plots & figures\n",
    "#---based on user input. User will provide the geodatabase and shapefile that they're using, in addition to \n",
    "#---what specific figure they would like to plot. For the desired figure, the user will also input parameters for visualization\n",
    "#---such as figure size, margins, labels, data points from the gdb/shapefile, etc.\n",
    "\n",
    "#----Currenltly a work in progress----"
   ]
  },
  {
   "cell_type": "code",
   "execution_count": 82,
   "id": "c4f7810b",
   "metadata": {},
   "outputs": [],
   "source": [
    "import matplotlib.pyplot as plt\n",
    "import geopandas as gpd\n",
    "import fiona\n",
    "import os\n",
    "import numpy as np"
   ]
  },
  {
   "cell_type": "code",
   "execution_count": 83,
   "id": "c8074d0c",
   "metadata": {},
   "outputs": [
    {
     "name": "stdout",
     "output_type": "stream",
     "text": [
      "Insert geodatabase path: C:\\Users\\UofM\\Downloads\\USA\n"
     ]
    }
   ],
   "source": [
    "#Importing gdb\n",
    "gdb_path = input(r\"Insert geodatabase path: \")"
   ]
  },
  {
   "cell_type": "code",
   "execution_count": 84,
   "id": "70b1477d",
   "metadata": {},
   "outputs": [
    {
     "name": "stdout",
     "output_type": "stream",
     "text": [
      "adi\n",
      "CITIES\n",
      "COUNTIES\n",
      "DRAINAGE\n",
      "LAKES\n",
      "places\n",
      "Rivers\n",
      "ROADS\n",
      "ROADS_RT\n",
      "STATES\n",
      "zip_usa\n"
     ]
    }
   ],
   "source": [
    "layers = fiona.listlayers(gdb_path)\n",
    "for shp in layers:\n",
    "    print(shp) "
   ]
  },
  {
   "cell_type": "code",
   "execution_count": 85,
   "id": "791c2dd0",
   "metadata": {},
   "outputs": [
    {
     "name": "stdout",
     "output_type": "stream",
     "text": [
      "['adi.avl', 'adi.dbf', 'adi.prj', 'adi.sbn', 'adi.sbx', 'adi.shp', 'adi.shx', 'cities.avl', 'Cities.dbf', 'cities.prj', 'CITIES.SBN', 'CITIES.SBX', 'CITIES.SHP', 'CITIES.SHX', 'counties.avl', 'Counties.dbf', 'counties.prj', 'COUNTIES.SBN', 'COUNTIES.SBX', 'COUNTIES.SHP', 'COUNTIES.shp.xml', 'COUNTIES.SHX', 'drainage.avl', 'DRAINAGE.DBF', 'drainage.prj', 'DRAINAGE.SBN', 'DRAINAGE.SBX', 'DRAINAGE.SHP', 'DRAINAGE.SHX', 'lakes.avl', 'LAKES.DBF', 'lakes.prj', 'LAKES.SBN', 'LAKES.SBX', 'LAKES.SHP', 'LAKES.SHX', 'places.avl', 'places.dbf', 'places.ixs', 'places.mxs', 'places.prj', 'places.sbn', 'places.sbx', 'places.shp', 'places.shx', 'rivers.avl', 'Rivers.dbf', 'rivers.prj', 'Rivers.sbn', 'Rivers.sbx', 'Rivers.shp', 'Rivers.shx', 'roads.avl', 'ROADS.DBF', 'roads.prj', 'ROADS.SBN', 'ROADS.SBX', 'ROADS.SHP', 'ROADS.SHX', 'roads_rt.avl', 'ROADS_RT.DBF', 'roads_rt.prj', 'ROADS_RT.SBN', 'ROADS_RT.SBX', 'ROADS_RT.SHP', 'ROADS_RT.SHX', 'states.avl', 'States.dbf', 'states.prj', 'STATES.SBN', 'STATES.SBX', 'STATES.SHP', 'STATES.shp.xml', 'STATES.SHX', 'zip_usa.avl', 'zip_usa.dbf', 'zip_usa.ixs', 'zip_usa.mxs', 'zip_usa.prj', 'zip_usa.sbn', 'zip_usa.sbx', 'zip_usa.shp', 'zip_usa.shx']\n"
     ]
    }
   ],
   "source": [
    "all_files = os.listdir(gdb_path)\n",
    "print(all_files)"
   ]
  },
  {
   "cell_type": "code",
   "execution_count": 86,
   "id": "b6a842fa",
   "metadata": {},
   "outputs": [
    {
     "name": "stdout",
     "output_type": "stream",
     "text": [
      "['adi.shp', 'CITIES.SHP', 'COUNTIES.SHP', 'DRAINAGE.SHP', 'LAKES.SHP', 'places.shp', 'Rivers.shp', 'ROADS.SHP', 'ROADS_RT.SHP', 'STATES.SHP', 'zip_usa.shp']\n"
     ]
    }
   ],
   "source": [
    "shapefiles = []\n",
    "for file in all_files:\n",
    "    if file.endswith(('.shp','.SHP')):\n",
    "        shapefiles.append(file)\n",
    "print(shapefiles)"
   ]
  },
  {
   "cell_type": "code",
   "execution_count": 87,
   "id": "54a8b811",
   "metadata": {},
   "outputs": [
    {
     "name": "stdout",
     "output_type": "stream",
     "text": [
      "Insert shapefile: STATES.SHP\n",
      "C:\\Users\\UofM\\Downloads\\USA\\STATES.SHP\n"
     ]
    }
   ],
   "source": [
    "input_shp = input(\"Insert shapefile you'd like to use: \")\n",
    "shp_path = os.path.join(gdb_path, input_shp)\n",
    "print(shp_path)"
   ]
  },
  {
   "cell_type": "code",
   "execution_count": 88,
   "id": "3f912edb",
   "metadata": {},
   "outputs": [
    {
     "name": "stdout",
     "output_type": "stream",
     "text": [
      "Index(['AREA', 'STATE_NAME', 'STATE_FIPS', 'SUB_REGION', 'STATE_ABBR',\n",
      "       'POP1990', 'POP1999', 'POP90_SQMI', 'HOUSEHOLDS', 'MALES', 'FEMALES',\n",
      "       'WHITE', 'BLACK', 'AMERI_ES', 'ASIAN_PI', 'OTHER', 'HISPANIC',\n",
      "       'AGE_UNDER5', 'AGE_5_17', 'AGE_18_29', 'AGE_30_49', 'AGE_50_64',\n",
      "       'AGE_65_UP', 'NEVERMARRY', 'MARRIED', 'SEPARATED', 'WIDOWED',\n",
      "       'DIVORCED', 'HSEHLD_1_M', 'HSEHLD_1_F', 'MARHH_CHD', 'MARHH_NO_C',\n",
      "       'MHH_CHILD', 'FHH_CHILD', 'HSE_UNITS', 'VACANT', 'OWNER_OCC',\n",
      "       'RENTER_OCC', 'MEDIAN_VAL', 'MEDIANRENT', 'UNITS_1DET', 'UNITS_1ATT',\n",
      "       'UNITS2', 'UNITS3_9', 'UNITS10_49', 'UNITS50_UP', 'MOBILEHOME',\n",
      "       'NO_FARMS87', 'AVG_SIZE87', 'CROP_ACR87', 'AVG_SALE87', 'geometry'],\n",
      "      dtype='object')\n"
     ]
    }
   ],
   "source": [
    "shp = gpd.read_file(shp_path)\n",
    "print(shp.columns)"
   ]
  },
  {
   "cell_type": "code",
   "execution_count": 101,
   "id": "7d5b639a",
   "metadata": {},
   "outputs": [
    {
     "name": "stdout",
     "output_type": "stream",
     "text": [
      "['AREA', 'STATE_NAME', 'STATE_FIPS', 'SUB_REGION', 'STATE_ABBR', 'POP1990', 'POP1999', 'POP90_SQMI', 'HOUSEHOLDS', 'MALES', 'FEMALES', 'WHITE', 'BLACK', 'AMERI_ES', 'ASIAN_PI', 'OTHER', 'HISPANIC', 'AGE_UNDER5', 'AGE_5_17', 'AGE_18_29', 'AGE_30_49', 'AGE_50_64', 'AGE_65_UP', 'NEVERMARRY', 'MARRIED', 'SEPARATED', 'WIDOWED', 'DIVORCED', 'HSEHLD_1_M', 'HSEHLD_1_F', 'MARHH_CHD', 'MARHH_NO_C', 'MHH_CHILD', 'FHH_CHILD', 'HSE_UNITS', 'VACANT', 'OWNER_OCC', 'RENTER_OCC', 'MEDIAN_VAL', 'MEDIANRENT', 'UNITS_1DET', 'UNITS_1ATT', 'UNITS2', 'UNITS3_9', 'UNITS10_49', 'UNITS50_UP', 'MOBILEHOME', 'NO_FARMS87', 'AVG_SIZE87', 'CROP_ACR87', 'AVG_SALE87', 'geometry']\n"
     ]
    }
   ],
   "source": [
    "col_list = []\n",
    "for col in shp:\n",
    "    col_list.append(col)\n",
    "print(col_list)"
   ]
  },
  {
   "cell_type": "code",
   "execution_count": null,
   "id": "da2f2ed9",
   "metadata": {},
   "outputs": [],
   "source": []
  },
  {
   "cell_type": "code",
   "execution_count": null,
   "id": "2ff63469",
   "metadata": {},
   "outputs": [],
   "source": []
  },
  {
   "cell_type": "code",
   "execution_count": 89,
   "id": "9548a492",
   "metadata": {},
   "outputs": [
    {
     "name": "stdout",
     "output_type": "stream",
     "text": [
      "0 AREA\n",
      "1 STATE_NAME\n",
      "2 STATE_FIPS\n",
      "3 SUB_REGION\n",
      "4 STATE_ABBR\n",
      "5 POP1990\n",
      "6 POP1999\n",
      "7 POP90_SQMI\n",
      "8 HOUSEHOLDS\n",
      "9 MALES\n",
      "10 FEMALES\n",
      "11 WHITE\n",
      "12 BLACK\n",
      "13 AMERI_ES\n",
      "14 ASIAN_PI\n",
      "15 OTHER\n",
      "16 HISPANIC\n",
      "17 AGE_UNDER5\n",
      "18 AGE_5_17\n",
      "19 AGE_18_29\n",
      "20 AGE_30_49\n",
      "21 AGE_50_64\n",
      "22 AGE_65_UP\n",
      "23 NEVERMARRY\n",
      "24 MARRIED\n",
      "25 SEPARATED\n",
      "26 WIDOWED\n",
      "27 DIVORCED\n",
      "28 HSEHLD_1_M\n",
      "29 HSEHLD_1_F\n",
      "30 MARHH_CHD\n",
      "31 MARHH_NO_C\n",
      "32 MHH_CHILD\n",
      "33 FHH_CHILD\n",
      "34 HSE_UNITS\n",
      "35 VACANT\n",
      "36 OWNER_OCC\n",
      "37 RENTER_OCC\n",
      "38 MEDIAN_VAL\n",
      "39 MEDIANRENT\n",
      "40 UNITS_1DET\n",
      "41 UNITS_1ATT\n",
      "42 UNITS2\n",
      "43 UNITS3_9\n",
      "44 UNITS10_49\n",
      "45 UNITS50_UP\n",
      "46 MOBILEHOME\n",
      "47 NO_FARMS87\n",
      "48 AVG_SIZE87\n",
      "49 CROP_ACR87\n",
      "50 AVG_SALE87\n",
      "51 geometry\n"
     ]
    }
   ],
   "source": [
    "i = 0\n",
    "for columns in shp:\n",
    "    print(i, columns)\n",
    "    i+=1"
   ]
  },
  {
   "cell_type": "code",
   "execution_count": 93,
   "id": "c81fdf4a",
   "metadata": {},
   "outputs": [
    {
     "name": "stdout",
     "output_type": "stream",
     "text": [
      "What statistical plot would you like to use? Scatterplot\n"
     ]
    },
    {
     "data": {
      "image/png": "[encoded data removed]",
      "text/plain": [
       "<Figure size 640x480 with 1 Axes>"
      ]
     },
     "metadata": {},
     "output_type": "display_data"
    }
   ],
   "source": [
    "input_figure = input(\"What statistical plot would you like to use? \")\n",
    "if input_figure == 'Scatterplot':\n",
    "    \n",
    "    # Sample data\n",
    "    x = [1, 2, 3, 4, 5]\n",
    "    y = [2, 4, 1, 3, 5]\n",
    "\n",
    "    # Create scatter plot\n",
    "    plt.scatter(x, y)\n",
    "\n",
    "    # Add labels and title (optional)\n",
    "    plt.xlabel('X-axis')\n",
    "    plt.ylabel('Y-axis')\n",
    "    plt.title('Scatter Plot Example')\n",
    "\n",
    "    # Show the plot\n",
    "    plt.show()"
   ]
  },
  {
   "cell_type": "code",
   "execution_count": null,
   "id": "efa3ffd7",
   "metadata": {},
   "outputs": [],
   "source": []
  }
 ],
 "metadata": {
  "kernelspec": {
   "display_name": "Python 3 (ipykernel)",
   "language": "python",
   "name": "python3"
  },
  "language_info": {
   "codemirror_mode": {
    "name": "ipython",
    "version": 3
   },
   "file_extension": ".py",
   "mimetype": "text/x-python",
   "name": "python",
   "nbconvert_exporter": "python",
   "pygments_lexer": "ipython3",
   "version": "3.11.8"
  }
 },
 "nbformat": 4,
 "nbformat_minor": 5
}
