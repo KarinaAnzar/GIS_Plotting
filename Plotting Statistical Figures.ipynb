{
 "cells": [
  {
   "cell_type": "code",
   "execution_count": 15,
   "id": "71d58f6c",
   "metadata": {},
   "outputs": [],
   "source": [
    "#GIS Plotting Project Draft\n",
    "\n",
    "#---Script Objective & Work Plan---\n",
    "#---My main objective for my portion of the plotting project is to create statistical plots & figures\n",
    "#---based on user input. User will provide the geodatabase and shapefile that they're using, in addition to \n",
    "#---what specific data they would like to plot from the shapefile. For the desired figure, the user will also input parameters for visualization\n",
    "#---such as figure size, margins, labels, data points from the gdb/shapefile, etc.\n",
    "\n",
    "#---Future Work Plan: At the moment, this code is a work in progress. Currently I am testing it with simple visualizations\n",
    "#---such as a bar graph using shapefiles in the USA gdb. However, I would like to expand this to other figures such as\n",
    "#---scatterplots, and statistical distribution figures like histograms and boxplots.\n",
    "\n",
    "#----Currently a work in progress. Code below is what I've written so far----"
   ]
  },
  {
   "cell_type": "code",
   "execution_count": 16,
   "id": "68a03307",
   "metadata": {},
   "outputs": [],
   "source": [
    "import matplotlib.pyplot as plt\n",
    "import geopandas as gpd\n",
    "import fiona\n",
    "import os\n",
    "import numpy as np"
   ]
  },
  {
   "cell_type": "code",
   "execution_count": 17,
   "id": "d982d42f",
   "metadata": {},
   "outputs": [
    {
     "name": "stdout",
     "output_type": "stream",
     "text": [
      "Insert geodatabase path: C:\\Users\\UofM\\Downloads\\USA\n"
     ]
    }
   ],
   "source": [
    "#Importing gdb\n",
    "gdb_path = input(r\"Insert geodatabase path: \")"
   ]
  },
  {
   "cell_type": "code",
   "execution_count": 18,
   "id": "90834291",
   "metadata": {},
   "outputs": [
    {
     "name": "stdout",
     "output_type": "stream",
     "text": [
      "adi\n",
      "CITIES\n",
      "COUNTIES\n",
      "DRAINAGE\n",
      "LAKES\n",
      "places\n",
      "Rivers\n",
      "ROADS\n",
      "ROADS_RT\n",
      "STATES\n",
      "zip_usa\n"
     ]
    }
   ],
   "source": [
    "layers = fiona.listlayers(gdb_path)\n",
    "for shp in layers:\n",
    "    print(shp) "
   ]
  },
  {
   "cell_type": "code",
   "execution_count": 19,
   "id": "065b7784",
   "metadata": {},
   "outputs": [
    {
     "name": "stdout",
     "output_type": "stream",
     "text": [
      "['adi.avl', 'adi.dbf', 'adi.prj', 'adi.sbn', 'adi.sbx', 'adi.shp', 'adi.shx', 'cities.avl', 'Cities.dbf', 'cities.prj', 'CITIES.SBN', 'CITIES.SBX', 'CITIES.SHP', 'CITIES.SHX', 'counties.avl', 'Counties.dbf', 'counties.prj', 'COUNTIES.SBN', 'COUNTIES.SBX', 'COUNTIES.SHP', 'COUNTIES.shp.xml', 'COUNTIES.SHX', 'drainage.avl', 'DRAINAGE.DBF', 'drainage.prj', 'DRAINAGE.SBN', 'DRAINAGE.SBX', 'DRAINAGE.SHP', 'DRAINAGE.SHX', 'lakes.avl', 'LAKES.DBF', 'lakes.prj', 'LAKES.SBN', 'LAKES.SBX', 'LAKES.SHP', 'LAKES.SHX', 'places.avl', 'places.dbf', 'places.ixs', 'places.mxs', 'places.prj', 'places.sbn', 'places.sbx', 'places.shp', 'places.shx', 'rivers.avl', 'Rivers.dbf', 'rivers.prj', 'Rivers.sbn', 'Rivers.sbx', 'Rivers.shp', 'Rivers.shx', 'roads.avl', 'ROADS.DBF', 'roads.prj', 'ROADS.SBN', 'ROADS.SBX', 'ROADS.SHP', 'ROADS.SHX', 'roads_rt.avl', 'ROADS_RT.DBF', 'roads_rt.prj', 'ROADS_RT.SBN', 'ROADS_RT.SBX', 'ROADS_RT.SHP', 'ROADS_RT.SHX', 'states.avl', 'States.dbf', 'states.prj', 'STATES.SBN', 'STATES.SBX', 'STATES.SHP', 'STATES.shp.xml', 'STATES.SHX', 'zip_usa.avl', 'zip_usa.dbf', 'zip_usa.ixs', 'zip_usa.mxs', 'zip_usa.prj', 'zip_usa.sbn', 'zip_usa.sbx', 'zip_usa.shp', 'zip_usa.shx']\n"
     ]
    }
   ],
   "source": [
    "#listing all files in gdb\n",
    "all_files = os.listdir(gdb_path)\n",
    "print(all_files)"
   ]
  },
  {
   "cell_type": "code",
   "execution_count": 20,
   "id": "5f8117e9",
   "metadata": {},
   "outputs": [
    {
     "name": "stdout",
     "output_type": "stream",
     "text": [
      "['adi.shp', 'CITIES.SHP', 'COUNTIES.SHP', 'DRAINAGE.SHP', 'LAKES.SHP', 'places.shp', 'Rivers.shp', 'ROADS.SHP', 'ROADS_RT.SHP', 'STATES.SHP', 'zip_usa.shp']\n"
     ]
    }
   ],
   "source": [
    "shapefiles = []\n",
    "for file in all_files:\n",
    "    if file.endswith(('.shp','.SHP')):\n",
    "        shapefiles.append(file)\n",
    "print(shapefiles)"
   ]
  },
  {
   "cell_type": "code",
   "execution_count": 21,
   "id": "606f9436",
   "metadata": {},
   "outputs": [
    {
     "name": "stdout",
     "output_type": "stream",
     "text": [
      "Available shapefiles:\n",
      "adi.shp\n",
      "CITIES.SHP\n",
      "COUNTIES.SHP\n",
      "DRAINAGE.SHP\n",
      "LAKES.SHP\n",
      "places.shp\n",
      "Rivers.shp\n",
      "ROADS.SHP\n",
      "ROADS_RT.SHP\n",
      "STATES.SHP\n",
      "zip_usa.shp\n",
      "Insert shapefile you'd like to use: LAKES.SHP\n",
      "C:\\Users\\UofM\\Downloads\\USA\\LAKES.SHP\n"
     ]
    }
   ],
   "source": [
    "#List the available shapefiles in gdb and ask user which shp they'd like to use\n",
    "print(\"Available shapefiles:\")\n",
    "for shp in shapefiles:\n",
    "    print(shp)\n",
    "input_shp = input(\"Insert shapefile you'd like to use: \")\n",
    "shp_path = os.path.join(gdb_path, input_shp)\n",
    "print(shp_path)"
   ]
  },
  {
   "cell_type": "code",
   "execution_count": 22,
   "id": "431e73e5",
   "metadata": {},
   "outputs": [
    {
     "name": "stdout",
     "output_type": "stream",
     "text": [
      "['AREA', 'NAME', 'geometry']\n"
     ]
    }
   ],
   "source": [
    "#Read shapefile given and list its columns\n",
    "shp = gpd.read_file(shp_path)\n",
    "col_list = []\n",
    "for col in shp:\n",
    "    col_list.append(col)\n",
    "print(col_list)"
   ]
  },
  {
   "cell_type": "code",
   "execution_count": 23,
   "id": "9ccc66d6",
   "metadata": {},
   "outputs": [
    {
     "name": "stdout",
     "output_type": "stream",
     "text": [
      "What plot would you like to use? Scatter Plot\n",
      "List of columns in your shapefile: \n",
      "['AREA', 'NAME', 'geometry']\n",
      "Enter the 1st column you'd like to use: NAME\n",
      "Enter the 2nd column you'd like to use: AREA\n",
      "Columns to be used:  NAME and AREA\n",
      "Are you using a specific range of values from your list? (Type 'Yes or 'No'): No\n",
      "Width of your plot: 13\n",
      "Height of your plot: 6\n",
      "Add a title: Lake Area\n",
      "Name your x-axis: Lake\n",
      "Name your y-axis: Area (in m^2)\n"
     ]
    },
    {
     "data": {
      "image/png": "[encoded data removed]",
      "text/plain": [
       "<Figure size 1300x600 with 1 Axes>"
      ]
     },
     "metadata": {},
     "output_type": "display_data"
    }
   ],
   "source": [
    "#Ask User what plot they want\n",
    "input_figure = input(\"What plot would you like to use? \")\n",
    "\n",
    "#Bar Graph\n",
    "\n",
    "if input_figure == 'Bar Graph':\n",
    "    #Input data to be used\n",
    "    print(\"List of columns in your shapefile: \")\n",
    "    print(col_list)\n",
    "    input_col1 = input(\"Enter the 1st column you'd like to use: \")\n",
    "    input_col2 = input(\"Enter the 2nd column you'd like to use: \")\n",
    "    input_col1_list = []\n",
    "    input_col2_list = []\n",
    "    print(\"Columns to be used: \" , input_col1, \"and\" , input_col2)\n",
    "    for i, row in shp.iterrows():\n",
    "        input_col1_list.append(row[input_col1])\n",
    "        input_col2_list.append(row[input_col2])\n",
    "        \n",
    "    #User Input Parameters for Bar Graph\n",
    "    input_range = input(\"Are you using a specific range of values from your list? (Type 'Yes or 'No'): \")\n",
    "    if input_range == 'Yes':\n",
    "        start_range = int(input(\"Enter your start value: \"))\n",
    "        end_range = int(input(\"Enter your end value: \"))\n",
    "        \n",
    "        xAxis = input_col1_list[start_range: end_range + 1]\n",
    "        yAxis = input_col2_list[start_range: end_range + 1]\n",
    "        \n",
    "        graph_width = int(input(\"Width of your graph: \"))\n",
    "        graph_height = int(input(\"Height of your graph: \"))\n",
    "        graph_title = input(\"Add a title: \")\n",
    "        labelX = input(\"Name your x-axis: \")\n",
    "        labelY = input(\"Name your y-axis: \")\n",
    "        \n",
    "        #Plot bar graph\n",
    "        fig, ax = plt.subplots(figsize=(graph_width, graph_height))\n",
    "        plt.ticklabel_format(style='plain')\n",
    "        plt.bar(xAxis, yAxis)\n",
    "        plt.xlabel(labelX)\n",
    "        plt.ylabel(labelY)\n",
    "        plt.title(graph_title)\n",
    "        plt.show()     \n",
    "        \n",
    "    elif input_range == 'No':\n",
    "        xAxis = input_col1_list\n",
    "        yAxis = input_col2_list\n",
    "        \n",
    "        graph_width = int(input(\"Width of your graph: \"))\n",
    "        graph_height = int(input(\"Height of your graph: \"))\n",
    "        \n",
    "        graph_title = input(\"Add a title: \")\n",
    "        labelX = input(\"Name your x-axis: \")\n",
    "        labelY = input(\"Name your y-axis: \")\n",
    "    \n",
    "        #Plot bar graph\n",
    "        fig, ax = plt.subplots(figsize=(graph_width, graph_height))\n",
    "        plt.ticklabel_format(style='plain')\n",
    "        plt.bar(xAxis, yAxis)\n",
    "        plt.xlabel(labelX)\n",
    "        plt.ylabel(labelY)\n",
    "        plt.title(graph_title)\n",
    "        plt.show()\n",
    "        \n",
    "#--------------------------------------------------------------------\n",
    "        \n",
    "#Scatter Plot\n",
    "\n",
    "if input_figure == 'Scatter Plot':\n",
    "    print(\"List of columns in your shapefile: \")\n",
    "    print(col_list)\n",
    "    input_col1 = input(\"Enter the 1st column you'd like to use: \")\n",
    "    input_col2 = input(\"Enter the 2nd column you'd like to use: \")\n",
    "    input_col1_list = []\n",
    "    input_col2_list = []\n",
    "    print(\"Columns to be used: \" , input_col1, \"and\" , input_col2)\n",
    "    for i, row in shp.iterrows():\n",
    "        input_col1_list.append(row[input_col1])\n",
    "        input_col2_list.append(row[input_col2])\n",
    "    input_range = input(\"Are you using a specific range of values from your list? (Type 'Yes or 'No'): \")\n",
    "    if input_range == 'Yes':\n",
    "        start_range = int(input(\"Enter your start value: \"))\n",
    "        end_range = int(input(\"Enter your end value: \"))\n",
    "        \n",
    "        xAxis = input_col1_list[start_range: end_range + 1]\n",
    "        yAxis = input_col2_list[start_range: end_range + 1]\n",
    "        \n",
    "        graph_width = int(input(\"Width of your graph: \"))\n",
    "        graph_height = int(input(\"Height of your graph: \"))\n",
    "        graph_title = input(\"Enter a title: \")\n",
    "        labelX = input(\"Name your x-axis: \")\n",
    "        labelY = input(\"Name your y-axis: \")\n",
    "        \n",
    "        # Make scatter plot   \n",
    "        xAxis = range(len(input_col1_list[start_range:end_range]))\n",
    "        yAxis = input_col2_list[start_range:end_range]\n",
    "\n",
    "\n",
    "        plt.scatter(x, y)\n",
    "        plt.ticklabel_format(style='plain')\n",
    "        plt.xlabel(labelX)\n",
    "        plt.ylabel(labelY)\n",
    "        plt.title(graph_title)\n",
    "        plt.show()\n",
    "        \n",
    "    elif input_range == 'No':\n",
    "        \n",
    "        graph_width = int(input(\"Width of your plot: \"))\n",
    "        graph_height = int(input(\"Height of your plot: \"))\n",
    "        graph_title = input(\"Add a title: \")\n",
    "        labelX = input(\"Name your x-axis: \")\n",
    "        labelY = input(\"Name your y-axis: \")\n",
    "        \n",
    "        # Make scatter plot\n",
    "        fig, ax = plt.subplots(figsize=(graph_width, graph_height))\n",
    "        x = range(len(input_col1_list))\n",
    "        y = input_col2_list\n",
    "        plt.scatter(x, y)\n",
    "        plt.ticklabel_format(style='plain')\n",
    "        plt.title(graph_title)\n",
    "        plt.xlabel(labelX)\n",
    "        plt.ylabel(labelY)\n",
    "        \n",
    "#---------------------------------------\n",
    "\n",
    "#Histogram\n",
    "\n",
    "if input_figure == 'Histogram':\n",
    "    print(\"List of columns in your shapefile: \")\n",
    "    print(col_list)\n",
    "    input_column = input(\"Enter the column you'd like to use: \")\n",
    "    input_column_list = []\n",
    "    print(\"Column to be used: \" , input_column)\n",
    "    for i, row in shp.iterrows():\n",
    "        input_column_list.append(row[input_column])\n",
    "        \n",
    "    input_bins = int(input(\"Enter the number of bins for your histogram: \"))\n",
    "    graph_width = int(input(\"Width of your plot: \"))\n",
    "    graph_height = int(input(\"Height of your plot: \"))\n",
    "    graph_title = input(\"Enter a title: \")\n",
    "    labelX = input(\"Name your x-axis: \")\n",
    "    \n",
    "    # Create the histogram\n",
    "    fig, ax = plt.subplots(figsize=(graph_width, graph_height))\n",
    "    plt.hist(input_column_list, bins= input_bins, edgecolor = 'black')\n",
    "    plt.xlabel(labelX)\n",
    "    plt.ylabel('Frequency')\n",
    "    plt.title(graph_title)\n",
    "    plt.show()\n",
    "\n",
    "        "
   ]
  },
  {
   "cell_type": "code",
   "execution_count": null,
   "id": "052f979a",
   "metadata": {},
   "outputs": [],
   "source": []
  },
  {
   "cell_type": "code",
   "execution_count": null,
   "id": "e633cc2a",
   "metadata": {},
   "outputs": [],
   "source": []
  },
  {
   "cell_type": "code",
   "execution_count": null,
   "id": "6f7372e0",
   "metadata": {},
   "outputs": [],
   "source": []
  },
  {
   "cell_type": "code",
   "execution_count": null,
   "id": "af1caf48",
   "metadata": {},
   "outputs": [],
   "source": []
  },
  {
   "cell_type": "code",
   "execution_count": null,
   "id": "bfa1a72c",
   "metadata": {},
   "outputs": [],
   "source": []
  },
  {
   "cell_type": "code",
   "execution_count": null,
   "id": "7e65c16c",
   "metadata": {},
   "outputs": [],
   "source": []
  },
  {
   "cell_type": "code",
   "execution_count": null,
   "id": "ac93640a",
   "metadata": {},
   "outputs": [],
   "source": []
  }
 ],
 "metadata": {
  "kernelspec": {
   "display_name": "Python 3 (ipykernel)",
   "language": "python",
   "name": "python3"
  },
  "language_info": {
   "codemirror_mode": {
    "name": "ipython",
    "version": 3
   },
   "file_extension": ".py",
   "mimetype": "text/x-python",
   "name": "python",
   "nbconvert_exporter": "python",
   "pygments_lexer": "ipython3",
   "version": "3.11.8"
  }
 },
 "nbformat": 4,
 "nbformat_minor": 5
}
